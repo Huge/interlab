{
 "cells": [
  {
   "cell_type": "code",
   "execution_count": 56,
   "id": "740f9fae-e8a3-460d-98f4-a48ca3384df6",
   "metadata": {},
   "outputs": [],
   "source": [
    "import random\n",
    "\n",
    "RPS = [\"Rock\", \"Paper\", \"Scissors\"]\n",
    "\n",
    "class RpsActor():\n",
    "\n",
    "    def __init__(self):\n",
    "        self.process = self.step()\n",
    "\n",
    "    async def step(self):\n",
    "        while True:\n",
    "            yield random.choice(RPS)\n",
    "\n",
    "    async def act(self):\n",
    "        return await anext(self.process)\n",
    "\n",
    "\n",
    "class LlmRpsActor():\n",
    "\n",
    "    def __init__(self, engine):\n",
    "        self.process = self.step()\n",
    "        self.engine = engine\n",
    "\n",
    "    async def step(self):\n",
    "        while True:\n",
    "            prompt = \"We are playing Rock Paper Scissors\\n\"\n",
    "            yield random.choice(RPS)\n",
    "\n",
    "    async def act(self):\n",
    "        return await anext(self.process)"
   ]
  },
  {
   "cell_type": "code",
   "execution_count": 65,
   "id": "cfe2f11e-bb57-4096-9bc8-67b495710228",
   "metadata": {},
   "outputs": [
    {
     "name": "stdout",
     "output_type": "stream",
     "text": [
      "Rock Rock\n",
      "Scissors Paper\n",
      "Paper Paper\n"
     ]
    },
    {
     "data": {
      "text/plain": [
       "[1, 0]"
      ]
     },
     "execution_count": 65,
     "metadata": {},
     "output_type": "execute_result"
    }
   ],
   "source": [
    "\n",
    "player1 = RpsActor()\n",
    "player2 = RpsActor()\n",
    "\n",
    "def choose_winner(a1, a2):\n",
    "    if a1 == a2:\n",
    "        return None\n",
    "    return int((RPS.index(a1) + 1) % 3 == RPS.index(a2)) \n",
    "\n",
    "wins = [0, 0]\n",
    "for i in range(3):\n",
    "    a1 = await player1.act()\n",
    "    a2 = await player2.act()\n",
    "    print(a1, a2)\n",
    "    winner = choose_winner(a1, a2)\n",
    "    if winner is not None:\n",
    "        wins[winner] += 1\n",
    "    player1.observe(a2)\n",
    "    player2.observe(a1)\n",
    "wins"
   ]
  }
 ],
 "metadata": {
  "kernelspec": {
   "display_name": "Python 3 (ipykernel)",
   "language": "python",
   "name": "python3"
  },
  "language_info": {
   "codemirror_mode": {
    "name": "ipython",
    "version": 3
   },
   "file_extension": ".py",
   "mimetype": "text/x-python",
   "name": "python",
   "nbconvert_exporter": "python",
   "pygments_lexer": "ipython3",
   "version": "3.10.6"
  }
 },
 "nbformat": 4,
 "nbformat_minor": 5
}
