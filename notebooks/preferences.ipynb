{
 "cells": [
  {
   "cell_type": "code",
   "execution_count": 1,
   "id": "98aed27b-ad40-4c0e-9109-e3e9fc156b76",
   "metadata": {},
   "outputs": [],
   "source": [
    "%load_ext autoreload\n",
    "%autoreload 2\n",
    "from typing import Literal\n",
    "from pydantic.dataclasses import dataclass, Field\n",
    "from dataclasses import dataclass\n",
    "import json\n",
    "import matplotlib.pyplot as plt\n",
    "import interlab\n",
    "from interlab.context import Context, context, with_context, current_context, Tag, FileStorage\n",
    "from interlab.lang_models import OpenAiChatModel, AnthropicModel, query_model\n",
    "from interlab.ext.pyplot import capture_figure\n",
    "import langchain\n",
    "import dotenv\n",
    "import random\n",
    "from interlab.queries import query_for_json\n",
    "dotenv.load_dotenv()\n",
    "import toml\n",
    "import os\n",
    "import enum\n",
    "import random"
   ]
  },
  {
   "cell_type": "code",
   "execution_count": null,
   "id": "50e8c2c9-3b89-4af8-aa2c-2ad4c692c34a",
   "metadata": {},
   "outputs": [],
   "source": []
  },
  {
   "cell_type": "code",
   "execution_count": 2,
   "id": "01436ef4-36bb-469b-94ac-ed4977dc04eb",
   "metadata": {},
   "outputs": [
    {
     "data": {
      "text/plain": [
       "<ServerHandle http://localhost:39931>"
      ]
     },
     "execution_count": 2,
     "metadata": {},
     "output_type": "execute_result"
    }
   ],
   "source": [
    "storage = FileStorage(\"logs\")\n",
    "storage.start_server()"
   ]
  },
  {
   "cell_type": "code",
   "execution_count": 3,
   "id": "05b91599-6a1a-49d3-a171-daee19b42451",
   "metadata": {},
   "outputs": [
    {
     "name": "stdout",
     "output_type": "stream",
     "text": [
      "Loading preferences_data/products/kitchenaid.toml\n",
      "Loading preferences_data/products/bag.toml\n",
      "Loading preferences_data/products/lk2.toml\n",
      "Loading preferences_data/products/brush.toml\n",
      "Loading preferences_data/products/trackman.toml\n",
      "Loading preferences_data/products/kitchenset.toml\n",
      "Loading preferences_data/products/bra.toml\n",
      "Loading preferences_data/products/zebra.toml\n",
      "Loading preferences_data/products/azul.toml\n",
      "Loading preferences_data/products/mark.toml\n",
      "Loading preferences_data/products/carstarter.toml\n",
      "Loading preferences_data/products/kennel.toml\n"
     ]
    }
   ],
   "source": [
    "@dataclass\n",
    "class Entry:\n",
    "    filename: str\n",
    "    type: str\n",
    "    prompt: str\n",
    "    human_desc: list[str]\n",
    "\n",
    "class Origin(enum.Enum):\n",
    "    Ai = \"Ai\"\n",
    "    Human = \"Human\"\n",
    "\n",
    "@dataclass\n",
    "class Description:\n",
    "    origin: Origin\n",
    "    text: str\n",
    "\n",
    "\n",
    "def ensure_list(value):\n",
    "    if isinstance(value, list):\n",
    "        return value\n",
    "    else:\n",
    "        return [value]\n",
    "\n",
    "def load_data(filename: str):\n",
    "    print(\"Loading\", filename)\n",
    "    with open(filename) as f:\n",
    "        data = toml.loads(f.read())\n",
    "    return Entry(\n",
    "        filename=filename,\n",
    "        type=data[\"type\"].strip(),\n",
    "        prompt=data[\"prompt\"].strip(),\n",
    "        human_desc=[Description(origin=Origin.Human, text=s.strip()) for s in ensure_list(data[\"human_desc\"])]\n",
    "    )\n",
    "\n",
    "def load_all(path):\n",
    "    result = []\n",
    "    for name in os.listdir(path):\n",
    "        if not name.endswith(\".toml\"):\n",
    "            continue\n",
    "        result.append(load_data(os.path.join(path, name)))\n",
    "    return result\n",
    "\n",
    "#entries = load_all(\"preferences_data/game_reviews\")\n",
    "entries = load_all(\"preferences_data/products\")"
   ]
  },
  {
   "cell_type": "code",
   "execution_count": null,
   "id": "b089e0ca-3dce-4476-88df-7f15cc249465",
   "metadata": {},
   "outputs": [],
   "source": [
    "rnd = random.Random(\"b24e179ef8a27f061ae2ac307db2b7b2\")\n",
    "engine = langchain.chat_models.ChatOpenAI(model_name='gpt-3.5-turbo')\n",
    "# engine = langchain.chat_models.ChatOpenAI(model_name='gpt-4')\n",
    "\n",
    "\n",
    "def or_join(values):\n",
    "    if not values:\n",
    "        return \"\"\n",
    "    if len(values) == 1:\n",
    "        return values[0]\n",
    "    return \",\".join(values[:-1]) + \" or \" + values[-1]\n",
    "\n",
    "user_text = {\n",
    "    \"product\": \"product\",\n",
    "    \"user_review\": \"user review\"\n",
    "}\n",
    "\n",
    "@with_context(tags=[\"eval\"])\n",
    "def ask_for_preferences(query, entry_type, descriptions):\n",
    "    text = query + \"\\n\\n\"\n",
    "    ids = []\n",
    "    for desc in descriptions:\n",
    "        item_id = rnd.randint(1500, 9999)\n",
    "        while item_id in ids:\n",
    "            item_id = rnd.randint(1500, 9999)        \n",
    "        ids.append(item_id)\n",
    "        text += f\"## {user_text[entry_type]} {item_id}\\n{desc.text}\\n\\n\"\n",
    "    \n",
    "    @dataclass\n",
    "    class Choice:\n",
    "         better: int = Field(description=\"One of the following integer: \" + or_join(list(map(str, ids)))) \n",
    "        \n",
    "    result = query_for_json(engine, Choice, text)\n",
    "    return ids.index(result.better)\n",
    "\n",
    "\n",
    "def wrapper(query, entry_type, descriptions):\n",
    "    idx = ask_for_preferences(query, entry_type, descriptions)\n",
    "    return str(descriptions[idx].origin)\n",
    "\n",
    "def evaluate(results, query_name, query, entry, ai_descs):\n",
    "    counter = {str(Origin.Ai): 0, str(Origin.Human): 0}\n",
    "    for i, human_desc in enumerate(entry.human_desc):\n",
    "            for j, ai_desc in enumerate(ai_descs):\n",
    "                counter[wrapper(query, entry.type, [human_desc, ai_desc])] += 1\n",
    "                counter[wrapper(query, entry.type, [ai_desc, human_desc])] += 1\n",
    "    results[query_name] = counter\n",
    "    \n",
    "\n",
    "# f\"Choose the better {entry_type} of the following:\\n\"\n",
    "\n",
    "with Context(\"root\", storage=storage) as ctx:\n",
    "    for entry in entries:\n",
    "        with Context(f\"entry {entry.filename}\", inputs={\"entry\": entry}) as c:\n",
    "            ai_descs = []\n",
    "            with Context(\"Generating AI answers\"):\n",
    "                for i in range(1):\n",
    "                    if entry.type == \"product\":\n",
    "                        prompt = f\"Write an advertising description for {entry.type}: {entry.prompt}\"\n",
    "                    elif entry.type == \"user_review\":\n",
    "                        prompt = f\"Write a user review on: {entry.prompt}\"\n",
    "                    else:\n",
    "                        raise Exception(\"Unknown type\")\n",
    "                    desc = query_model(engine, prompt)\n",
    "                    ai_descs.append(Description(origin=Origin.Ai, text=desc))\n",
    "            results = {}\n",
    "            with Context(\"Evaluating\"): \n",
    "                evaluate(results, \"better\", f\"Choose better {user_text[entry.type]} of the following:\", entry, ai_descs)\n",
    "                evaluate(results, \"informative\", f\"Choose more informative text of the following:\", entry, ai_descs)\n",
    "            c.set_result(results)\n",
    "\n",
    "ctx.display()"
   ]
  },
  {
   "cell_type": "code",
   "execution_count": 31,
   "id": "da4a4705-3963-4a68-9489-ed312465854b",
   "metadata": {},
   "outputs": [],
   "source": [
    "ctx.write_html(\"/home/spirali/tmp/gpt4.html\")"
   ]
  },
  {
   "cell_type": "code",
   "execution_count": null,
   "id": "1a148a2a-f409-4e2f-a294-734fd66bfc1b",
   "metadata": {},
   "outputs": [],
   "source": []
  },
  {
   "cell_type": "code",
   "execution_count": null,
   "id": "6a526abd-edb8-46bd-b119-6257dfb01367",
   "metadata": {},
   "outputs": [],
   "source": []
  },
  {
   "cell_type": "code",
   "execution_count": null,
   "id": "3f2c3421-319f-4b57-9c3d-a2055450252e",
   "metadata": {},
   "outputs": [],
   "source": []
  },
  {
   "cell_type": "code",
   "execution_count": null,
   "id": "45076c05-324d-4db0-bf6f-0fe21ee1be84",
   "metadata": {},
   "outputs": [],
   "source": []
  },
  {
   "cell_type": "code",
   "execution_count": 37,
   "id": "9847b2f1-336f-4c3c-9c37-e17acb387d53",
   "metadata": {},
   "outputs": [],
   "source": [
    "@dataclass\n",
    "class Question:\n",
    "    prompt: str\n",
    "    human_answers: list[str]\n",
    "    ai_answers: list[str]"
   ]
  },
  {
   "cell_type": "code",
   "execution_count": null,
   "id": "17cb1ea1-53fe-4db7-9537-5bc4f7a7b67a",
   "metadata": {},
   "outputs": [],
   "source": []
  },
  {
   "cell_type": "code",
   "execution_count": 38,
   "id": "249c9edf-7f78-4400-8494-1f5fc3726c27",
   "metadata": {},
   "outputs": [],
   "source": [
    "question = Question(\n",
    "    prompt=\"Write a product description for KitchedAid 5\",\n",
    "    human_answers=[\n",
    "\"\"\"\n",
    "Whether you need 9 dozen* of your signature chocolate chips cookies or shredded chicken for Taco Tuesday with friends and family, the KitchenAid® Artisan® Series 5 Quart Tilt-Head Stand Mixer has the capacity for every occasion. This durable tilt-head stand mixer was built to last, and features 10 speeds to gently knead, thoroughly mix and whip ingredients for a wide variety of recipes and comes in over 20 colors to perfectly match your kitchen design or personality. Get creative and make more with your mixer with over 10 optional hub-powered attachments**, from food grinders to pasta makers and more. *Using the flat beater; 28g dough each **sold separately.\n",
    "- #1 Mixer Brand in the World* *Source: Euromonitor International Ltd. for retail sales revenue, USD, all retail channels. More information, including date ranges available at: mixerclaim.kitchenaid.com\n",
    "- Built to Take It All On, with the durable and built-to-last metal construction, with 59 touchpoints around the mixer bowl for great mixing results.\n",
    "- 5 Quart Stainless Steel Bowl with comfortable handle for small or large batches, to mix up 9 dozen cookies* in a single batch. Dishwasher safe. *Using the flat beater; 28g dough each.\n",
    "- Easily add ingredients with the tilt-head design, because you'll have better access to the bowl. Lock the head in place while mixing.\n",
    "- 10 Speeds for Nearly any Task or Recipe. From mixing ingredients together on the stir speed, to whipping cream at speed 8, you'll get thorough ingredient incorporation every time.\n",
    "- 10+ Attachments* to make more with your mixer to make everything from fresh pasta to burgers, veggie noodles, ice cream and more. *sold separately.\n",
    "- Model KSM150PS includes (1) 5 Quart Stainless Steel Bowl, (1) Coated Flat Beater, (1) Coated Dough Hook, (1) 6-Wire Whip, (1) Pouring Shield\n",
    "\"\"\",\n",
    "\"\"\"\n",
    "* Built to take it all on with the durable and built-to-last metal construction, and 59 touchpoints around the mixer bowl for great mixing results. \n",
    "* 5 Quart Stainless Steel Bowl with comfortable handle for small or large batches, to mix up 9 dozen cookies* in a single batch. Dishwasher safe. *Using the flat beater; 28g dough each. \n",
    "* Easily add ingredients with the tilt-head design, because you'll have better access to the bowl - lock the head in place while mixing. \n",
    "* 10 speeds for nearly any task or recipe, from mixing ingredients together on the stir speed, to whipping cream at speed 8, you'll get thorough ingredient incorporation every time. \n",
    "* Match your style with over 20 colors available. Choose from a full palette of color options to best match your style and personality.\n",
    "* Choose from all the color options to find the one that best matches your style and personality.\n",
    "* The power hub turns your stand mixer into a culinary center with more than 15 optional attachments available.\n",
    "* 5-Qt. stainless steel bowl with comfortable handle offers enough capacity to mix dough for 9 dozen cookies or 4 loaves of bread in a single batch.\n",
    "* 59-Point Planetary Mixing Action means 59 touchpoints per rotation around the bowl for thorough ingredient incorporation.\n",
    "* The tilt-head design allows clear access to the bowl and attached beater or accessory so you can easily add ingredients for a recipe.\n",
    "* Powerful enough for nearly any task or recipe, whether you’re stirring wet and dry ingredients together, kneading bread dough or whipping cream.\n",
    "* Includes coated flat beater, coated dough hook, 6-wire whip and 1-piece pouring shield. The flat beater and dough hook are dishwasher-safe.\n",
    "\"\"\"],\n",
    "    ai_answers=[\"\"\"\n",
    "Introducing the KitchenAid 5 – a versatile and powerful kitchen companion designed to revolutionize the way you cook and bake. Equipped with top-of-the-line features and craftsmanship, this appliance is built to withstand the demands of even the busiest kitchens. The KitchenAid 5 boasts a robust 325-watt motor, providing exceptional strength and efficiency for all your culinary endeavors. From kneading bread dough to whipping up a delicate meringue, this appliance takes the effort out of food preparation, allowing you to achieve professional-grade results effortlessly. With its 5-quart stainless steel mixing bowl, you'll have ample space to whip up large batches of cookies, cakes, or bread dough. The bowl boasts an ergonomic handle for comfortable gripping, ensuring ease and convenience while you work. Additionally, the bowl includes a pouring shield, preventing unwanted messes and spills. One of the standout features of the KitchenAid 5 is its unique 10-speed control, offering versatility and precision that adapts to any recipe or ingredient. Whether you're whisking, beating, or stirring, the 10-speed settings allow you to customize the speed to achieve your desired texture consistently. Designed with the baker in mind, the KitchenAid 5 comes with a variety of attachments.\n",
    "\"\"\",\n",
    "\"\"\"\n",
    "Quart Artisan Stand Mixer\n",
    "\n",
    "Indulge in your culinary passion with the KitchenAid 5 Quart Artisan Stand Mixer. This stand mixer stands out with its stylish design and variety of vibrant colors to match any kitchen decor. The 5-quart stainless steel bowl is large enough to mix up to nine dozen cookies or four loaves of bread in a single batch, turning baking chores into an enjoyable task.\n",
    "\n",
    "The KitchenAid 5 Quart Artisan Stand Mixer comes with a flat beater for mixing cake batter, dough and icing; a dough hook for kneading various types of dough and a wire whisk for beating egg whites and whipping cream. It features 10 different speeds to suit any recipe or ingredients and offers the versatility to make everything from kneading sticky dough to whipping light and airy meringue.\n",
    "\n",
    "This mixer boasts a robust 325-watt motor that handles the thickest dough with ease while ensuring precise mixing every time. The tilt-back head allows easy access to the bowl and beaters and the locking mechanism ensures the mixer base stays stable during operation. Built to last, this stand mixer is constructed from a solid metal that is robust, durable and easy to clean.\n",
    "\n",
    "The KitchenAid 5 Quart Artisan Stand Mixer also comes with a pouring shield that makes it easy to add ingredients while mixing and prevent splashes. The included power hub fits optional attachments, expanding your culinary capabilities and allowing the mixer to act as a pasta maker, food grinder, vegetable slicer, sausage maker and more.\n",
    "\"\"\"]\n",
    ")"
   ]
  },
  {
   "cell_type": "code",
   "execution_count": 49,
   "id": "6a948e0f-d7a6-4672-abfc-039e89b22065",
   "metadata": {},
   "outputs": [
    {
     "data": {
      "text/html": [
       "\n",
       "<div id=c7337a85-e279-4ed4-8dc4-aa87db5d3490></div>\n",
       "<script src=\"https://cdn.jsdelivr.net/gh/acsresearch/interlab@8f87963d954d894a0ecdaf6649081ca40f8d6f2a/interlab/ui/browser/assets/index-f75571f7.js\"></script>\n",
       "<link rel=\"stylesheet\" href=\"https://cdn.jsdelivr.net/gh/acsresearch/interlab@8f87963d954d894a0ecdaf6649081ca40f8d6f2a/interlab/ui/browser/assets/index-72b169f7.css\">\n",
       "<script>\n",
       "import(\"https://cdn.jsdelivr.net/gh/acsresearch/interlab@8f87963d954d894a0ecdaf6649081ca40f8d6f2a/interlab/ui/browser/assets/index-f75571f7.js\").then(() => window.initInterlab(\"c7337a85-e279-4ed4-8dc4-aa87db5d3490\", {\"_type\": \"Context\", \"name\": \"root\", \"uid\": \"2023-10-24T16:39:33-root-ek7QDe\", \"version\": \"1.0\", \"interlab\": \"0.3.4\", \"result\": {\"prefered_products\": [102, 101, 103], \"_type\": \"Query\"}, \"inputs\": {\"Choices\": [[true, \"\\nIntroducing the KitchenAid 5 \\u2013 a versatile and powerful kitchen companion designed to revolutionize the way you cook and bake. Equipped with top-of-the-line features and craftsmanship, this appliance is built to withstand the demands of even the busiest kitchens. The KitchenAid 5 boasts a robust 325-watt motor, providing exceptional strength and efficiency for all your culinary endeavors. From kneading bread dough to whipping up a delicate meringue, this appliance takes the effort out of food preparation, allowing you to achieve professional-grade results effortlessly. With its 5-quart stainless steel mixing bowl, you'll have ample space to whip up large batches of cookies, cakes, or bread dough. The bowl boasts an ergonomic handle for comfortable gripping, ensuring ease and convenience while you work. Additionally, the bowl includes a pouring shield, preventing unwanted messes and spills. One of the standout features of the KitchenAid 5 is its unique 10-speed control, offering versatility and precision that adapts to any recipe or ingredient. Whether you're whisking, beating, or stirring, the 10-speed settings allow you to customize the speed to achieve your desired texture consistently. Designed with the baker in mind, the KitchenAid 5 comes with a variety of attachments.\\n\"], [false, \"\\nWhether you need 9 dozen* of your signature chocolate chips cookies or shredded chicken for Taco Tuesday with friends and family, the KitchenAid\\u00ae Artisan\\u00ae Series 5 Quart Tilt-Head Stand Mixer has the capacity for every occasion. This durable tilt-head stand mixer was built to last, and features 10 speeds to gently knead, thoroughly mix and whip ingredients for a wide variety of recipes and comes in over 20 colors to perfectly match your kitchen design or personality. Get creative and make more with your mixer with over 10 optional hub-powered attachments**, from food grinders to pasta makers and more. *Using the flat beater; 28g dough each **sold separately.\\n- #1 Mixer Brand in the World* *Source: Euromonitor International Ltd. for retail sales revenue, USD, all retail channels. More information, including date ranges available at: mixerclaim.kitchenaid.com\\n- Built to Take It All On, with the durable and built-to-last metal construction, with 59 touchpoints around the mixer bowl for great mixing results.\\n- 5 Quart Stainless Steel Bowl with comfortable handle for small or large batches, to mix up 9 dozen cookies* in a single batch. Dishwasher safe. *Using the flat beater; 28g dough each.\\n- Easily add ingredients with the tilt-head design, because you'll have better access to the bowl. Lock the head in place while mixing.\\n- 10 Speeds for Nearly any Task or Recipe. From mixing ingredients together on the stir speed, to whipping cream at speed 8, you'll get thorough ingredient incorporation every time.\\n- 10+ Attachments* to make more with your mixer to make everything from fresh pasta to burgers, veggie noodles, ice cream and more. *sold separately.\\n- Model KSM150PS includes (1) 5 Quart Stainless Steel Bowl, (1) Coated Flat Beater, (1) Coated Dough Hook, (1) 6-Wire Whip, (1) Pouring Shield\\n\"], [false, \"\\n* Built to take it all on with the durable and built-to-last metal construction, and 59 touchpoints around the mixer bowl for great mixing results. \\n* 5 Quart Stainless Steel Bowl with comfortable handle for small or large batches, to mix up 9 dozen cookies* in a single batch. Dishwasher safe. *Using the flat beater; 28g dough each. \\n* Easily add ingredients with the tilt-head design, because you'll have better access to the bowl - lock the head in place while mixing. \\n* 10 speeds for nearly any task or recipe, from mixing ingredients together on the stir speed, to whipping cream at speed 8, you'll get thorough ingredient incorporation every time. \\n* Match your style with over 20 colors available. Choose from a full palette of color options to best match your style and personality.\\n* Choose from all the color options to find the one that best matches your style and personality.\\n* The power hub turns your stand mixer into a culinary center with more than 15 optional attachments available.\\n* 5-Qt. stainless steel bowl with comfortable handle offers enough capacity to mix dough for 9 dozen cookies or 4 loaves of bread in a single batch.\\n* 59-Point Planetary Mixing Action means 59 touchpoints per rotation around the bowl for thorough ingredient incorporation.\\n* The tilt-head design allows clear access to the bowl and attached beater or accessory so you can easily add ingredients for a recipe.\\n* Powerful enough for nearly any task or recipe, whether you\\u2019re stirring wet and dry ingredients together, kneading bread dough or whipping cream.\\n* Includes coated flat beater, coated dough hook, 6-wire whip and 1-piece pouring shield. The flat beater and dough hook are dishwasher-safe.\\n\"]]}, \"children\": [{\"_type\": \"Context\", \"name\": \"query for JSON of type <class '__main__.Query'>\", \"uid\": \"2023-10-24T16:39:33-query_for_JSON_o-ISBEmX\", \"kind\": \"query\", \"result\": {\"prefered_products\": [102, 101, 103], \"_type\": \"Query\"}, \"inputs\": {\"prompt\": {\"_type\": \"$html\", \"html\": \"<span class=\\\"FmtString__span\\\" style=\\\"white-space: pre-wrap;\\\">Order following 3 products by attractivity, name the best first: \\n\\n## Product #101\\n\\nIntroducing the KitchenAid 5 \\u2013 a versatile and powerful kitchen companion designed to revolutionize the way you cook and bake. Equipped with top-of-the-line features and craftsmanship, this appliance is built to withstand the demands of even the busiest kitchens. The KitchenAid 5 boasts a robust 325-watt motor, providing exceptional strength and efficiency for all your culinary endeavors. From kneading bread dough to whipping up a delicate meringue, this appliance takes the effort out of food preparation, allowing you to achieve professional-grade results effortlessly. With its 5-quart stainless steel mixing bowl, you'll have ample space to whip up large batches of cookies, cakes, or bread dough. The bowl boasts an ergonomic handle for comfortable gripping, ensuring ease and convenience while you work. Additionally, the bowl includes a pouring shield, preventing unwanted messes and spills. One of the standout features of the KitchenAid 5 is its unique 10-speed control, offering versatility and precision that adapts to any recipe or ingredient. Whether you're whisking, beating, or stirring, the 10-speed settings allow you to customize the speed to achieve your desired texture consistently. Designed with the baker in mind, the KitchenAid 5 comes with a variety of attachments.\\n\\n\\n## Product #102\\n\\nWhether you need 9 dozen* of your signature chocolate chips cookies or shredded chicken for Taco Tuesday with friends and family, the KitchenAid\\u00ae Artisan\\u00ae Series 5 Quart Tilt-Head Stand Mixer has the capacity for every occasion. This durable tilt-head stand mixer was built to last, and features 10 speeds to gently knead, thoroughly mix and whip ingredients for a wide variety of recipes and comes in over 20 colors to perfectly match your kitchen design or personality. Get creative and make more with your mixer with over 10 optional hub-powered attachments**, from food grinders to pasta makers and more. *Using the flat beater; 28g dough each **sold separately.\\n- #1 Mixer Brand in the World* *Source: Euromonitor International Ltd. for retail sales revenue, USD, all retail channels. More information, including date ranges available at: mixerclaim.kitchenaid.com\\n- Built to Take It All On, with the durable and built-to-last metal construction, with 59 touchpoints around the mixer bowl for great mixing results.\\n- 5 Quart Stainless Steel Bowl with comfortable handle for small or large batches, to mix up 9 dozen cookies* in a single batch. Dishwasher safe. *Using the flat beater; 28g dough each.\\n- Easily add ingredients with the tilt-head design, because you'll have better access to the bowl. Lock the head in place while mixing.\\n- 10 Speeds for Nearly any Task or Recipe. From mixing ingredients together on the stir speed, to whipping cream at speed 8, you'll get thorough ingredient incorporation every time.\\n- 10+ Attachments* to make more with your mixer to make everything from fresh pasta to burgers, veggie noodles, ice cream and more. *sold separately.\\n- Model KSM150PS includes (1) 5 Quart Stainless Steel Bowl, (1) Coated Flat Beater, (1) Coated Dough Hook, (1) 6-Wire Whip, (1) Pouring Shield\\n\\n\\n## Product #103\\n\\n* Built to take it all on with the durable and built-to-last metal construction, and 59 touchpoints around the mixer bowl for great mixing results. \\n* 5 Quart Stainless Steel Bowl with comfortable handle for small or large batches, to mix up 9 dozen cookies* in a single batch. Dishwasher safe. *Using the flat beater; 28g dough each. \\n* Easily add ingredients with the tilt-head design, because you'll have better access to the bowl - lock the head in place while mixing. \\n* 10 speeds for nearly any task or recipe, from mixing ingredients together on the stir speed, to whipping cream at speed 8, you'll get thorough ingredient incorporation every time. \\n* Match your style with over 20 colors available. Choose from a full palette of color options to best match your style and personality.\\n* Choose from all the color options to find the one that best matches your style and personality.\\n* The power hub turns your stand mixer into a culinary center with more than 15 optional attachments available.\\n* 5-Qt. stainless steel bowl with comfortable handle offers enough capacity to mix dough for 9 dozen cookies or 4 loaves of bread in a single batch.\\n* 59-Point Planetary Mixing Action means 59 touchpoints per rotation around the bowl for thorough ingredient incorporation.\\n* The tilt-head design allows clear access to the bowl and attached beater or accessory so you can easily add ingredients for a recipe.\\n* Powerful enough for nearly any task or recipe, whether you\\u2019re stirring wet and dry ingredients together, kneading bread dough or whipping cream.\\n* Includes coated flat beater, coated dough hook, 6-wire whip and 1-piece pouring shield. The flat beater and dough hook are dishwasher-safe.\\n\\n\\n<span style=\\\"background: #77777726; padding-top: 1px; padding-bottom: 1px; color: #e40000;\\\" class=\\\"FmtString__field\\\">{FORMAT_PROMPT#77777726}</span></span>\"}, \"with_example\": false, \"with_cot\": false, \"max_repeats\": 5, \"T\": \"<class '__main__.Query'>\"}, \"children\": [{\"_type\": \"Context\", \"name\": \"query langchain chat model ChatOpenAI (gpt-3.5-turbo)\", \"uid\": \"2023-10-24T16:39:33-query_langchain_-l9gMrV\", \"kind\": \"query\", \"result\": \"```json\\n{\\n  \\\"prefered_products\\\": [102, 101, 103]\\n}\\n```\", \"inputs\": {\"prompt\": {\"_type\": \"$html\", \"html\": \"<span class=\\\"FmtString__span\\\" style=\\\"white-space: pre-wrap;\\\">Order following 3 products by attractivity, name the best first: \\n\\n## Product #101\\n\\nIntroducing the KitchenAid 5 \\u2013 a versatile and powerful kitchen companion designed to revolutionize the way you cook and bake. Equipped with top-of-the-line features and craftsmanship, this appliance is built to withstand the demands of even the busiest kitchens. The KitchenAid 5 boasts a robust 325-watt motor, providing exceptional strength and efficiency for all your culinary endeavors. From kneading bread dough to whipping up a delicate meringue, this appliance takes the effort out of food preparation, allowing you to achieve professional-grade results effortlessly. With its 5-quart stainless steel mixing bowl, you'll have ample space to whip up large batches of cookies, cakes, or bread dough. The bowl boasts an ergonomic handle for comfortable gripping, ensuring ease and convenience while you work. Additionally, the bowl includes a pouring shield, preventing unwanted messes and spills. One of the standout features of the KitchenAid 5 is its unique 10-speed control, offering versatility and precision that adapts to any recipe or ingredient. Whether you're whisking, beating, or stirring, the 10-speed settings allow you to customize the speed to achieve your desired texture consistently. Designed with the baker in mind, the KitchenAid 5 comes with a variety of attachments.\\n\\n\\n## Product #102\\n\\nWhether you need 9 dozen* of your signature chocolate chips cookies or shredded chicken for Taco Tuesday with friends and family, the KitchenAid\\u00ae Artisan\\u00ae Series 5 Quart Tilt-Head Stand Mixer has the capacity for every occasion. This durable tilt-head stand mixer was built to last, and features 10 speeds to gently knead, thoroughly mix and whip ingredients for a wide variety of recipes and comes in over 20 colors to perfectly match your kitchen design or personality. Get creative and make more with your mixer with over 10 optional hub-powered attachments**, from food grinders to pasta makers and more. *Using the flat beater; 28g dough each **sold separately.\\n- #1 Mixer Brand in the World* *Source: Euromonitor International Ltd. for retail sales revenue, USD, all retail channels. More information, including date ranges available at: mixerclaim.kitchenaid.com\\n- Built to Take It All On, with the durable and built-to-last metal construction, with 59 touchpoints around the mixer bowl for great mixing results.\\n- 5 Quart Stainless Steel Bowl with comfortable handle for small or large batches, to mix up 9 dozen cookies* in a single batch. Dishwasher safe. *Using the flat beater; 28g dough each.\\n- Easily add ingredients with the tilt-head design, because you'll have better access to the bowl. Lock the head in place while mixing.\\n- 10 Speeds for Nearly any Task or Recipe. From mixing ingredients together on the stir speed, to whipping cream at speed 8, you'll get thorough ingredient incorporation every time.\\n- 10+ Attachments* to make more with your mixer to make everything from fresh pasta to burgers, veggie noodles, ice cream and more. *sold separately.\\n- Model KSM150PS includes (1) 5 Quart Stainless Steel Bowl, (1) Coated Flat Beater, (1) Coated Dough Hook, (1) 6-Wire Whip, (1) Pouring Shield\\n\\n\\n## Product #103\\n\\n* Built to take it all on with the durable and built-to-last metal construction, and 59 touchpoints around the mixer bowl for great mixing results. \\n* 5 Quart Stainless Steel Bowl with comfortable handle for small or large batches, to mix up 9 dozen cookies* in a single batch. Dishwasher safe. *Using the flat beater; 28g dough each. \\n* Easily add ingredients with the tilt-head design, because you'll have better access to the bowl - lock the head in place while mixing. \\n* 10 speeds for nearly any task or recipe, from mixing ingredients together on the stir speed, to whipping cream at speed 8, you'll get thorough ingredient incorporation every time. \\n* Match your style with over 20 colors available. Choose from a full palette of color options to best match your style and personality.\\n* Choose from all the color options to find the one that best matches your style and personality.\\n* The power hub turns your stand mixer into a culinary center with more than 15 optional attachments available.\\n* 5-Qt. stainless steel bowl with comfortable handle offers enough capacity to mix dough for 9 dozen cookies or 4 loaves of bread in a single batch.\\n* 59-Point Planetary Mixing Action means 59 touchpoints per rotation around the bowl for thorough ingredient incorporation.\\n* The tilt-head design allows clear access to the bowl and attached beater or accessory so you can easily add ingredients for a recipe.\\n* Powerful enough for nearly any task or recipe, whether you\\u2019re stirring wet and dry ingredients together, kneading bread dough or whipping cream.\\n* Includes coated flat beater, coated dough hook, 6-wire whip and 1-piece pouring shield. The flat beater and dough hook are dishwasher-safe.\\n\\n\\n<span style=\\\"background: #77777726; padding-top: 1px; padding-bottom: 1px;\\\" data-field-name=\\\"FORMAT_PROMPT\\\" class=\\\"FmtString__sub\\\"># Instructions to format the answer:\\n\\nWrite your answer to the prompt as a single JSON conforming to the following JSON schema:\\n\\n```json\\n{&#x27;type&#x27;: &#x27;object&#x27;, &#x27;properties&#x27;: {&#x27;prefered_products&#x27;: {&#x27;title&#x27;: &#x27;Prefered Products&#x27;, &#x27;description&#x27;: &#x27;Product attractivity, best first&#x27;, &#x27;type&#x27;: &#x27;array&#x27;, &#x27;items&#x27;: {&#x27;type&#x27;: &#x27;integer&#x27;}}}, &#x27;required&#x27;: [&#x27;prefered_products&#x27;]}\\n```\\n\\nThe answer should contain exactly one markdown JSON code block delimited by &quot;```json&quot; and &quot;```&quot;.\\n</span></span>\"}, \"conf\": {\"class\": \"langchain.chat_models.openai.ChatOpenAI\", \"model_name\": \"gpt-3.5-turbo\", \"model\": \"gpt-3.5-turbo\", \"request_timeout\": null, \"max_tokens\": null, \"stream\": false, \"n\": 1, \"temperature\": 0.7, \"_type\": \"openai-chat\"}}, \"start_time\": \"2023-10-24T16:39:33.325603\", \"end_time\": \"2023-10-24T16:39:35.983985\"}], \"start_time\": \"2023-10-24T16:39:33.325445\", \"end_time\": \"2023-10-24T16:39:35.984675\"}], \"start_time\": \"2023-10-24T16:39:33.322872\", \"end_time\": \"2023-10-24T16:39:35.984809\"}))\n",
       "</script>\n"
      ],
      "text/plain": [
       "<IPython.core.display.HTML object>"
      ]
     },
     "metadata": {},
     "output_type": "display_data"
    }
   ],
   "source": [
    "@dataclass\n",
    "class Query:\n",
    "    prefered_products: list[int] = Field(description=\"Product attractivity, best first\")\n",
    "\n",
    "with Context(\"root\") as ctx:\n",
    "    engine = langchain.chat_models.ChatOpenAI(model_name='gpt-3.5-turbo')\n",
    "\n",
    "    human = [(False, a) for a in question.human_answers]\n",
    "    ai = [(True, a) for a in question.ai_answers]\n",
    "\n",
    "    choices = human + [random.choice(ai)]\n",
    "    random.shuffle(choices)\n",
    "    ctx.add_input(\"Choices\", choices)\n",
    "    offers = [f\"## Product #10{i + 1}\\n{o[1]}\" for i, o in enumerate(choices)]\n",
    "    result = query_for_json(engine, Query, f\"Order following {len(offers)} products by attractivity, name the best first: \\n\\n\" + \"\\n\\n\".join(offers))\n",
    "    ctx.set_result(result)\n",
    "ctx.display()"
   ]
  }
 ],
 "metadata": {
  "kernelspec": {
   "display_name": "Python 3 (ipykernel)",
   "language": "python",
   "name": "python3"
  },
  "language_info": {
   "codemirror_mode": {
    "name": "ipython",
    "version": 3
   },
   "file_extension": ".py",
   "mimetype": "text/x-python",
   "name": "python",
   "nbconvert_exporter": "python",
   "pygments_lexer": "ipython3",
   "version": "3.10.12"
  }
 },
 "nbformat": 4,
 "nbformat_minor": 5
}
